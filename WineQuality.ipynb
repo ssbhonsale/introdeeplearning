{
 "cells": [
  {
   "attachments": {},
   "cell_type": "markdown",
   "metadata": {},
   "source": [
    "# Predicting wine quality with artificial neural networks"
   ]
  },
  {
   "attachments": {},
   "cell_type": "markdown",
   "metadata": {},
   "source": [
    "The goal is to model wine quality based on physicochemical tests. This will be acheived my developing a ANN model."
   ]
  },
  {
   "attachments": {},
   "cell_type": "markdown",
   "metadata": {},
   "source": [
    "## Setup\n",
    "\n",
    "You will need to make a copy of this notebook in your Google Drive before you can edit the homework files. You can do so with **File &rarr; Save a copy in Drive**."
   ]
  },
  {
   "cell_type": "code",
   "execution_count": null,
   "metadata": {},
   "outputs": [],
   "source": [
    "!git clone https://github.com/ssbhonsale/introdeeplearning\n",
    "%cd introdeeplearning"
   ]
  },
  {
   "cell_type": "code",
   "execution_count": 1,
   "metadata": {},
   "outputs": [],
   "source": [
    "#@title Import all requirements\n",
    "import numpy as np\n",
    "import torch \n",
    "from torch import nn\n",
    "from sklearn.model_selection import train_test_split\n",
    "import seaborn as sns\n",
    "import pandas as pd\n",
    "from model_builder import *\n",
    "from data_processor import *\n",
    "from model_trainer import *"
   ]
  },
  {
   "cell_type": "code",
   "execution_count": 2,
   "metadata": {},
   "outputs": [],
   "source": [
    "#@title Choose your hyperparameters\n",
    "class Args:\n",
    "\n",
    "  def __getitem__(self, key):\n",
    "    return getattr(self, key)\n",
    "\n",
    "  def __setitem__(self, key, val):\n",
    "    setattr(self, key, val)\n",
    "\n",
    "  #@markdown Preprocessing Data\n",
    "  RATIO = 0.2  #@param {type:\"number\"}\n",
    "  NORM_TYPE = \"minmax\" # @param [\"standard\", \"minmax\", \"none\"]\n",
    "  if NORM_TYPE == \"none\":\n",
    "    NORM_TYPE = None\n",
    "\n",
    "  fixed_acidity = False #@param {type: \"boolean\"}\n",
    "  volatile_acidity= False #@param {type: \"boolean\"}\n",
    "  citric_acid= False #@param {type: \"boolean\"}\n",
    "  residual_sugar= False #@param {type: \"boolean\"}\n",
    "  chlorides= False #@param {type: \"boolean\"}\n",
    "  free_sulfur_dioxide= False #@param {type: \"boolean\"}\n",
    "  total_sulfur_dioxide= False #@param {type: \"boolean\"}\n",
    "  density= False #@param {type: \"boolean\"}\n",
    "  pH= False #@param {type: \"boolean\"}\n",
    "  sulphates = False #@param {type: \"boolean\"}\n",
    "  alcohol= False #@param {type: \"boolean\"}\n",
    "  DROP_LIST = []\n",
    "  if fixed_acidity is True:\n",
    "    DROP_LIST.append(\"fixed acidity\")\n",
    "  if volatile_acidity is True:\n",
    "    DROP_LIST.append(\"volatile acidity\")\n",
    "  if citric_acid is True:\n",
    "    DROP_LIST.append(\"citric acid\")\n",
    "  if residual_sugar is True:\n",
    "    DROP_LIST.append(\"residual sugar\")\n",
    "  if chlorides is True:\n",
    "    DROP_LIST.append(\"chlorides free\")\n",
    "  if free_sulfur_dioxide is True:\n",
    "    DROP_LIST.append(\"free sulfur dioxide\")\n",
    "  if total_sulfur_dioxide is True:\n",
    "    DROP_LIST.append(\"total sulfur dioxide\")\n",
    "  if density is True:\n",
    "    DROP_LIST.append(\"density\")\n",
    "  if pH is True:\n",
    "    DROP_LIST.append(\"pH\")\n",
    "  if sulphates is True:\n",
    "    DROP_LIST.append(\"sulphates\")\n",
    "  if alcohol is True:\n",
    "    DROP_LIST.append(\"alcohol\")\n",
    "\n",
    "  #@markdown Neural network achitechture\n",
    "  N_LAYER = 3# @param {type:\"number\"}\n",
    "  LAYER_SIZE = 5 #@param {type:\"number\"}\n",
    "  ACT = \"relu\" # @param [\"relu\", \"sigmoid\", \"tanh\"]  \n",
    "  #@markdown Model Training\n",
    "  LR = 0.01 #@param {type:\"number\"}\n",
    "  EP = 10 #@param {type:\"number\"}\n",
    "  BATCH_SIZE = 100 #@param {type:\"number\"}\n",
    "  \n",
    "args = Args()"
   ]
  },
  {
   "cell_type": "code",
   "execution_count": 3,
   "metadata": {},
   "outputs": [
    {
     "data": {
      "text/plain": [
       "['sulphates']"
      ]
     },
     "execution_count": 3,
     "metadata": {},
     "output_type": "execute_result"
    }
   ],
   "source": [
    "args.DROP_LIST"
   ]
  },
  {
   "cell_type": "code",
   "execution_count": 4,
   "metadata": {},
   "outputs": [
    {
     "name": "stdout",
     "output_type": "stream",
     "text": [
      "<class 'numpy.ndarray'>\n",
      "(1599, 10)\n",
      "Data Loaded\n",
      "Epoch: 0|Training Loss:2.31276535987854| Training Accuracy:10.208373904576437| Validation Loss:2.2421650886535645| Validation Accuracy39.375\n"
     ]
    }
   ],
   "source": [
    "#@title Run Training Algorithm\n",
    "run_training(args)"
   ]
  },
  {
   "cell_type": "code",
   "execution_count": null,
   "metadata": {},
   "outputs": [],
   "source": []
  }
 ],
 "metadata": {
  "kernelspec": {
   "display_name": "deepRL",
   "language": "python",
   "name": "python3"
  },
  "language_info": {
   "codemirror_mode": {
    "name": "ipython",
    "version": 3
   },
   "file_extension": ".py",
   "mimetype": "text/x-python",
   "name": "python",
   "nbconvert_exporter": "python",
   "pygments_lexer": "ipython3",
   "version": "3.10.9"
  },
  "orig_nbformat": 4
 },
 "nbformat": 4,
 "nbformat_minor": 2
}
