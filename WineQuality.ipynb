{
 "cells": [
  {
   "attachments": {},
   "cell_type": "markdown",
   "metadata": {},
   "source": [
    "# Predicting wine quality with artificial neural networks"
   ]
  },
  {
   "attachments": {},
   "cell_type": "markdown",
   "metadata": {},
   "source": [
    "The goal is to model wine quality based on physicochemical tests. This will be acheived my developing a ANN model."
   ]
  },
  {
   "cell_type": "code",
   "execution_count": null,
   "metadata": {},
   "outputs": [],
   "source": [
    "import numpy as np\n",
    "import torch \n",
    "from torch import nn\n",
    "from sklearn.model_selection import train_test_split\n",
    "import seaborn as sns\n",
    "import pandas as pd\n",
    "from model_builder import *\n",
    "from data_processor import *\n",
    "from model_trainer import *"
   ]
  },
  {
   "cell_type": "code",
   "execution_count": null,
   "metadata": {},
   "outputs": [],
   "source": [
    "class Args:\n",
    "\n",
    "  def __getitem__(self, key):\n",
    "    return getattr(self, key)\n",
    "\n",
    "  def __setitem__(self, key, val):\n",
    "    setattr(self, key, val)\n",
    "\n",
    "  #@markdown Hyperparameters\n",
    "  RATIO = 0.2  #@param {type:\"number\"}\n",
    "  NORM_TYPE = \"standard\" # @param [\"standard\", \"minmax\", \"none\"]\n",
    "  \n",
    "  N_LAYER = 3# @param {type:\"number\"}\n",
    "  LAYER_SIZE = 5 #@param {type:\"number\"}\n",
    "  \n",
    "  LR = 0.01 #@param {type:\"number\"}\n",
    "  EP = 500 #@param {type:\"number\"}\n",
    "  BATCH_SIZE = 5 #@param {type:\"number\"}\n",
    "  \n",
    "args = Args()"
   ]
  },
  {
   "cell_type": "code",
   "execution_count": null,
   "metadata": {},
   "outputs": [],
   "source": [
    "run_training(args)"
   ]
  }
 ],
 "metadata": {
  "kernelspec": {
   "display_name": "deepRL",
   "language": "python",
   "name": "python3"
  },
  "language_info": {
   "codemirror_mode": {
    "name": "ipython",
    "version": 3
   },
   "file_extension": ".py",
   "mimetype": "text/x-python",
   "name": "python",
   "nbconvert_exporter": "python",
   "pygments_lexer": "ipython3",
   "version": "3.10.9"
  },
  "orig_nbformat": 4
 },
 "nbformat": 4,
 "nbformat_minor": 2
}
