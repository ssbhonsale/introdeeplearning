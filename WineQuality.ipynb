{
 "cells": [
  {
   "cell_type": "code",
   "execution_count": 1,
   "metadata": {},
   "outputs": [],
   "source": [
    "import numpy as np\n",
    "import torch \n",
    "from torch import nn\n",
    "from sklearn.model_selection import train_test_split\n",
    "import seaborn as sns\n",
    "import pandas as pd\n",
    "from helper import *\n",
    "from data_processor import *"
   ]
  },
  {
   "attachments": {},
   "cell_type": "markdown",
   "metadata": {},
   "source": [
    "<input type=\"text\" id=\"name\" name=\"name\"/>"
   ]
  },
  {
   "cell_type": "code",
   "execution_count": null,
   "metadata": {},
   "outputs": [],
   "source": [
    "IN = 11\n",
    "OUT = 10\n",
    "N_LAYER = 3\n",
    "LAYER_SIZE = 5\n",
    "RATIO = 0.2\n",
    "LR = 0.01\n",
    "EP = 500"
   ]
  },
  {
   "cell_type": "code",
   "execution_count": 2,
   "metadata": {},
   "outputs": [],
   "source": [
    "X,y  = loadData()\n",
    "X_train, X_test, y_train, y_test = splitData(X,y,RATIO)\n",
    "X_train, X_test = Normalize(X_train, X_test)"
   ]
  },
  {
   "cell_type": "code",
   "execution_count": null,
   "metadata": {},
   "outputs": [],
   "source": [
    "\n",
    "\n",
    "neural_net = NeuralNetModel(IN,OUT,N_LAYER,LAYER_SIZE)"
   ]
  },
  {
   "cell_type": "code",
   "execution_count": null,
   "metadata": {},
   "outputs": [],
   "source": [
    "loss_func = nn.CrossEntropyLoss()\n",
    "optimizer = torch.optim.Adam(params=neural_net.parameters(),lr=LR)"
   ]
  },
  {
   "cell_type": "code",
   "execution_count": null,
   "metadata": {},
   "outputs": [],
   "source": [
    "X_train_torch = torch.from_numpy(X_train).type(torch.float)\n",
    "y_train_torch = torch.from_numpy(y_train.to_numpy()).type(torch.LongTensor)\n",
    "X_test_torch = torch.from_numpy(X_test).type(torch.float)\n",
    "y_test_torch = torch.from_numpy(y_test.to_numpy()).type(torch.LongTensor)"
   ]
  },
  {
   "cell_type": "code",
   "execution_count": null,
   "metadata": {},
   "outputs": [],
   "source": [
    "X_train_torch[j,:].shape"
   ]
  },
  {
   "cell_type": "code",
   "execution_count": null,
   "metadata": {},
   "outputs": [],
   "source": [
    "ep = EP\n",
    "\n",
    "for i in range(ep):\n",
    "    neural_net.train()\n",
    "    for j in range(1119):\n",
    "        yp = neural_net(X_train_torch[j,:])\n",
    "        loss = loss_func(yp,y_train_torch[j])\n",
    "        optimizer.zero_grad()\n",
    "        loss.backward()\n",
    "        optimizer.step()\n",
    "    yp = neural_net(X_train_torch)\n",
    "    y_pred = torch.softmax(yp,dim=1).argmax(dim=1)\n",
    "    acc = accuracy_fn(y_train_torch,y_pred)\n",
    "    \n",
    "    if i%10 == 0:\n",
    "        print(f\"Epoch: {i}|Loss:{loss}|Acc:{acc}\")"
   ]
  }
 ],
 "metadata": {
  "kernelspec": {
   "display_name": "deepRL",
   "language": "python",
   "name": "python3"
  },
  "language_info": {
   "codemirror_mode": {
    "name": "ipython",
    "version": 3
   },
   "file_extension": ".py",
   "mimetype": "text/x-python",
   "name": "python",
   "nbconvert_exporter": "python",
   "pygments_lexer": "ipython3",
   "version": "3.10.9"
  },
  "orig_nbformat": 4
 },
 "nbformat": 4,
 "nbformat_minor": 2
}
